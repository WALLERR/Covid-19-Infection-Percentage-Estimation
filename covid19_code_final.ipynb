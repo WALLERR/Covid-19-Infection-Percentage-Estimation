{
 "cells": [
  {
   "cell_type": "markdown",
   "metadata": {
    "colab_type": "text",
    "id": "view-in-github"
   },
   "source": [
    "<a href=\"https://colab.research.google.com/github/WALLERR/Covid-19-Infection-Percentage-Estimation/blob/main/covid19_code_final.ipynb\" target=\"_parent\"><img src=\"https://colab.research.google.com/assets/colab-badge.svg\" alt=\"Open In Colab\"/></a>"
   ]
  },
  {
   "cell_type": "markdown",
   "metadata": {
    "id": "ihsR_ew8QNCr"
   },
   "source": [
    "#COVID-19 Prediction"
   ]
  },
  {
   "cell_type": "markdown",
   "metadata": {
    "id": "OAKefO7DSUwH"
   },
   "source": [
    "Since late 2019, the world been in health crisis because of the COVID-19 pandemic. In fact, using Medical Imagery has proved to be efficient in detecting Covid-19 Infection. These Medical Imaging include: X-ray, CT-scans and Ultrasounds. The use of CT-scans is not only limited to the detection of COVID-19 cases, but they can also be used for other important tasks such quantifying the infection and monitoring the evolution of the disease, which can help in treatment and save the patient’s life. In this challenge, the participants will use a dataset labelled by two expert radiologists, who estimated the Covid-19 infection, to train and validate their approaches. In the testing phase, participants will test their approaches using a test dataset collected from various CT-scanners and recording settings."
   ]
  },
  {
   "cell_type": "markdown",
   "metadata": {
    "id": "C1SUlbVIQbXx"
   },
   "source": [
    "- In your google drive, create a folder called \"DL_Project\"\n",
    "- Place this .ipynb notebook in that folder\n",
    "- Upload the training & val dataset zip in that folder\n",
    "- Only have to do this once the very first time you are setting up project"
   ]
  },
  {
   "cell_type": "code",
   "execution_count": null,
   "metadata": {
    "colab": {
     "base_uri": "https://localhost:8080/"
    },
    "id": "_Ycwr5g60RUs",
    "outputId": "4db03b4f-59f3-4665-a799-b59a212502ba"
   },
   "outputs": [
    {
     "name": "stdout",
     "output_type": "stream",
     "text": [
      "Mounted at /content/drive\n"
     ]
    }
   ],
   "source": [
    "# ## mount google drive\n",
    "# from google.colab import drive\n",
    "# drive.mount('/content/drive')"
   ]
  },
  {
   "cell_type": "code",
   "execution_count": null,
   "metadata": {
    "id": "QP8GYguxqzLy"
   },
   "outputs": [],
   "source": [
    "# # if you haven't unzipped training data\n",
    "# !unzip \"/home/mac/Covid-19-Infection-Percentage-Estimation/Train.zip\" -d  \"/home/mac/Covid-19-Infection-Percentage-Estimation/Train/\""
   ]
  },
  {
   "cell_type": "code",
   "execution_count": null,
   "metadata": {
    "id": "KOZCN2EusO5_"
   },
   "outputs": [],
   "source": [
    "# if you haven't unzipped val data\n",
    "# !unzip \"/home/mac/Covid-19-Infection-Percentage-Estimation/Val Blind.zip\" -d  \"/home/mac/Covid-19-Infection-Percentage-Estimation/Val Blind\""
   ]
  },
  {
   "cell_type": "markdown",
   "metadata": {
    "id": "T58rAfGwOtiP"
   },
   "source": [
    "##Challenge Dataset:\n",
    "\n",
    "The challenge has three sets: Train, Val, and Test, and we will only work with the Train set and Val set (unlabeled). \n",
    "\n",
    "The Train set is obtained from 132 CT-scans, from which 128 CT-scans has confirmed to have Covid-19 based on positive reverse transcription polymerase chain reaction (RT-PCR) and CT scan manifestations identified by two experienced thoracic radiologists. The rest four CT-scans have not any infection type (Healthy). The Val set is obtained from 57 CT-scans, from which 55 CT-scans has confirmed to have Covid-19 based on positive reverse transcription polymerase chain reaction (RT-PCR) and CT scan manifestations identified by two experienced thoracic radiologists. The rest two CT-scans have not any infection type (Healthy).\n",
    "\n",
    "The Train split has two files: Images (Slices) Folder and Labeling Folder ('.csv' file) that contains the labels for each Slice (Image)"
   ]
  },
  {
   "cell_type": "markdown",
   "metadata": {
    "id": "K8JKYqdFO4la"
   },
   "source": [
    "    Train Set\n",
    "    ├── Slices Folder \n",
    "    │      ├ Image_0000.png\n",
    "    │      ├ Image_0001.png\n",
    "    │      ├ ...\n",
    "    |      └ Image_3053.png\n",
    "    ├── Labeling Folder\n",
    "    │   └── Train.csv\n",
    "    │         ├ Slice_Name        Covid-19_percentage  Subject    \n",
    "    │         ├ Image_0000.png    0.0                  0\n",
    "    │         ├ Image_0001.png    0.0                  0\n",
    "    │         ├ ...               ...                  ..\n",
    "    │         └ Image_3053.png    40.0\t               131\n",
    "    └── "
   ]
  },
  {
   "cell_type": "markdown",
   "metadata": {
    "id": "CoiQf1kNPN0f"
   },
   "source": [
    "The Validation split has one file contains the slices images, which will be used to predict the Covid-19 infection percentage. These prediction should be saved as '.csv' file and submitted to the Codalab (https://competitions.codalab.org/competitions/35575) to evaluation the performance:"
   ]
  },
  {
   "cell_type": "markdown",
   "metadata": {
    "id": "jii5kTiMPQHQ"
   },
   "source": [
    "    Val Set\n",
    "    ├── Slices Folder \n",
    "    │      ├ Image_0000.png\n",
    "    │      ├ Image_0001.png\n",
    "    │      ├ ...\n",
    "     |      └ Image_1300.png\n",
    "    └── "
   ]
  },
  {
   "cell_type": "markdown",
   "metadata": {
    "id": "sGTBoEiXS0YP"
   },
   "source": [
    "## Deliverables"
   ]
  },
  {
   "cell_type": "markdown",
   "metadata": {
    "id": "2cwK6XnLSt4E"
   },
   "source": [
    "In the Validation phase, each team should submit the predictions of the validation data as 'predictions.csv' file, which contains the names of the slice images in the first column and the corresponding Covid-19 infection percentage estimation in the second column. **This file should be compressed as 'predictions.zip' file and submitted to CodaLab**.\n",
    "\n",
    "In order to have access to the leader board, you must do the following:\n",
    "- Participation in the Competition: Each team should request to participate in the competition on the CodaLab platform (https://competitions.codalab.org/competitions/35575) with specifying the team name, members, emails and affiliations. The team informations can be send to: faresbougourzi@gmail.com"
   ]
  },
  {
   "cell_type": "markdown",
   "metadata": {
    "id": "KT60ecgITNED"
   },
   "source": [
    "    predictions.zip\n",
    "    ├── predictions.csv\n",
    "    │      ├ Image_0000.png    Pr0            \n",
    "    │      ├ Image_0001.png    Pr1             \n",
    "    │      ├ ...               ...              \n",
    "    │      └ Image_1300.png    Pr1300\t        \n",
    "    └──   "
   ]
  },
  {
   "cell_type": "markdown",
   "metadata": {
    "id": "BoRb-o6NSiaA"
   },
   "source": [
    "## Evaluation"
   ]
  },
  {
   "cell_type": "markdown",
   "metadata": {
    "id": "YSx8S1ugSd2m"
   },
   "source": [
    "The evaluation metrics are: **Mean Absolute Error (MAE), Pearson Correlation coefficient (PC) and Root Mean Square Error (RMSE)**. The most important Evaluation Criterion is the **MAE**. In the event of two or more competitors achieve the same MAE, the PC and the RMSE are considered as the tie-breaker."
   ]
  },
  {
   "cell_type": "markdown",
   "metadata": {
    "id": "gFBUy1lBQIM5"
   },
   "source": [
    "## Custom Dataset Class"
   ]
  },
  {
   "cell_type": "code",
   "execution_count": 10,
   "metadata": {},
   "outputs": [
    {
     "name": "stdout",
     "output_type": "stream",
     "text": [
      "\u001b[31mERROR: Could not find a version that satisfies the requirement opencv (from versions: none)\u001b[0m\u001b[31m\r\n",
      "\u001b[0m\u001b[31mERROR: No matching distribution found for opencv\u001b[0m\u001b[31m\r\n",
      "\u001b[0m"
     ]
    }
   ],
   "source": [
    "!pip install opencv"
   ]
  },
  {
   "cell_type": "code",
   "execution_count": 12,
   "metadata": {
    "id": "TckWJ9O4sVJT"
   },
   "outputs": [],
   "source": [
    "## preprocess data\n",
    "## create custom data class\n",
    "\n",
    "import os\n",
    "import torch\n",
    "import pandas as pd\n",
    "from skimage import io, transform\n",
    "\n",
    "import numpy as np\n",
    "import matplotlib.pyplot as plt\n",
    "from torch.utils.data import Dataset, DataLoader\n",
    "from torchvision import transforms, utils\n",
    "import cv2\n",
    "from PIL import Image\n",
    "import glob\n",
    "\n",
    "from datetime import date, datetime\n",
    "\n",
    "\n",
    "class CovidDataset(Dataset):\n",
    "    \"\"\"Covid CT dataset.\"\"\"\n",
    "\n",
    "    def __init__(self, csv_file, root_dir, transform=None):\n",
    "        \"\"\"\n",
    "        Args:\n",
    "            csv_file (string): Path to the csv file with annotations.\n",
    "            root_dir (string): Directory with all the images.\n",
    "            transform (callable, optional): Optional transform to be applied\n",
    "                on a sample.\n",
    "        \"\"\"\n",
    "        self.label_data = pd.read_csv(csv_file)\n",
    "        self.root_dir = root_dir\n",
    "        ## you can apply custom transformation on the image for data augmentation\n",
    "        self.transform = transform\n",
    "\n",
    "    def __len__(self):\n",
    "        return len(self.label_data)\n",
    "\n",
    "    def __getitem__(self, idx):\n",
    "        if torch.is_tensor(idx):\n",
    "            idx = idx.tolist()\n",
    "\n",
    "        img_name = os.path.join(self.root_dir, self.label_data.iloc[idx, 0])\n",
    "        image = io.imread(img_name)\n",
    "        image = cv2.cvtColor(image, cv2.COLOR_BGRA2BGR)\n",
    "        image = torchvision.transforms.functional.to_tensor(image)\n",
    "        p = self.label_data.iloc[idx, 1]\n",
    "        subject_num = self.label_data.iloc[idx, 2]\n",
    "        sample = {'image': image, 'percentage': p, 'subject': subject_num, 'img_name':img_name}\n",
    "\n",
    "        # should be only applied on image, not percentage or subject #\n",
    "        if self.transform:\n",
    "            sample['image'] = self.transform(sample['image'])\n",
    "\n",
    "        return sample"
   ]
  },
  {
   "cell_type": "code",
   "execution_count": 13,
   "metadata": {
    "id": "Z0hPdBQZ3DLE"
   },
   "outputs": [],
   "source": [
    "class CovidTestDataset(Dataset):\n",
    "    \"\"\"Covid CT TEST dataset.\"\"\"\n",
    "\n",
    "    def __init__(self, root_dir, transform=None):\n",
    "        \"\"\"\n",
    "        Args:\n",
    "            root_dir (string): Directory with all the images.\n",
    "            transform (callable, optional): Optional transform to be applied\n",
    "                on a sample.\n",
    "        \"\"\"\n",
    "        self.root_dir = root_dir\n",
    "        self.image_list = []\n",
    "        for filename in glob.glob(self.root_dir+\"/*.png\"): #assuming png\n",
    "          self.image_list.append(filename)\n",
    "\n",
    "    def __len__(self):\n",
    "        return len(self.image_list)\n",
    "\n",
    "    def __getitem__(self, idx):\n",
    "        if torch.is_tensor(idx):\n",
    "            idx = idx.tolist()\n",
    "\n",
    "        img_name = self.image_list[idx]\n",
    "        image = io.imread(img_name)\n",
    "        image = cv2.cvtColor(image, cv2.COLOR_BGRA2BGR)\n",
    "        image = torchvision.transforms.functional.to_tensor(image)\n",
    "        sample = {'image': image, 'img_name':img_name}\n",
    "\n",
    "        return sample"
   ]
  },
  {
   "cell_type": "code",
   "execution_count": 15,
   "metadata": {
    "id": "DmV47ZBJy1Nv"
   },
   "outputs": [],
   "source": [
    "import torchvision\n",
    "covid_dataset_train_val = CovidDataset(csv_file='Train/Train.csv',\n",
    "                                    root_dir='Train/Train'\n",
    "                                    #, transform = transforms.Compose([\n",
    "                                    #           Rescale(256),\n",
    "                                    #           RandomCrop(224),\n",
    "                                    #           ToTensor()\n",
    "                                    #       ])\n",
    "                                    )\n",
    "\n",
    "covid_dataset_test = CovidTestDataset(root_dir='Test/Val')"
   ]
  },
  {
   "cell_type": "code",
   "execution_count": 16,
   "metadata": {
    "colab": {
     "base_uri": "https://localhost:8080/"
    },
    "id": "TqTt-xpyZ0ZU",
    "outputId": "7c23ad07-520f-4657-dee4-38016d637513"
   },
   "outputs": [
    {
     "data": {
      "text/plain": [
       "3053"
      ]
     },
     "execution_count": 16,
     "metadata": {},
     "output_type": "execute_result"
    }
   ],
   "source": [
    "len(covid_dataset_train_val)"
   ]
  },
  {
   "cell_type": "code",
   "execution_count": null,
   "metadata": {
    "colab": {
     "base_uri": "https://localhost:8080/",
     "height": 191
    },
    "id": "rJg-KZXP1AcI",
    "outputId": "c3633033-76a1-447e-ff7f-187c6134fea9"
   },
   "outputs": [
    {
     "name": "stdout",
     "output_type": "stream",
     "text": [
      "0 torch.Size([3, 512, 512]) 0.0 0\n",
      "1 torch.Size([3, 512, 512]) 0.0 0\n",
      "2 torch.Size([3, 512, 512]) 0.0 0\n",
      "3 torch.Size([3, 512, 512]) 0.0 0\n"
     ]
    },
    {
     "data": {
      "image/png": "[encoded data removed]",
      "text/plain": [
       "<Figure size 432x288 with 4 Axes>"
      ]
     },
     "metadata": {},
     "output_type": "display_data"
    }
   ],
   "source": [
    "## plot training example\n",
    "for i in range(len(covid_dataset_train_val)):\n",
    "    sample = covid_dataset_train_val[i]\n",
    "    print(i, sample['image'].shape, sample['percentage'], sample['subject'])\n",
    "    ax = plt.subplot(1, 4, i + 1)\n",
    "    plt.tight_layout()\n",
    "    ax.set_title('Sample #{}'.format(i))\n",
    "    ax.axis('off')\n",
    "    plt.imshow(sample['image'].numpy().transpose(1,2,0))\n",
    "    if i == 3:\n",
    "        plt.show()\n",
    "        break"
   ]
  },
  {
   "cell_type": "code",
   "execution_count": null,
   "metadata": {
    "colab": {
     "base_uri": "https://localhost:8080/",
     "height": 191
    },
    "id": "YuAZNhAB1BXs",
    "outputId": "6fb2baf0-b231-4135-809c-3ac45ae3aa0b"
   },
   "outputs": [
    {
     "name": "stdout",
     "output_type": "stream",
     "text": [
      "0 torch.Size([3, 512, 512]) drive/MyDrive/Test/Val/Image_0382.png\n",
      "1 torch.Size([3, 512, 512]) drive/MyDrive/Test/Val/Image_0383.png\n",
      "2 torch.Size([3, 512, 512]) drive/MyDrive/Test/Val/Image_0385.png\n",
      "3 torch.Size([3, 512, 512]) drive/MyDrive/Test/Val/Image_0386.png\n"
     ]
    },
    {
     "data": {
      "image/png": "[encoded data removed]",
      "text/plain": [
       "<Figure size 432x288 with 4 Axes>"
      ]
     },
     "metadata": {},
     "output_type": "display_data"
    }
   ],
   "source": [
    "## plot test examples\n",
    "for i in range(len(covid_dataset_test)):\n",
    "    sample = covid_dataset_test[i]\n",
    "    print(i, sample['image'].shape, sample['img_name'])\n",
    "    ax = plt.subplot(1, 4, i + 1)\n",
    "    plt.tight_layout()\n",
    "    ax.set_title('Sample #{}'.format(i))\n",
    "    ax.axis('off')\n",
    "    plt.imshow(sample['image'].numpy().transpose(1,2,0))\n",
    "    if i == 3:\n",
    "        plt.show()\n",
    "        break"
   ]
  },
  {
   "cell_type": "markdown",
   "metadata": {
    "id": "ZV7i3Ov9REFZ"
   },
   "source": [
    "##Split given train set to train & val set"
   ]
  },
  {
   "cell_type": "code",
   "execution_count": null,
   "metadata": {
    "id": "rNdGoDd545V-"
   },
   "outputs": [],
   "source": [
    "# dl=DataLoader(covid_dataset_train_val, batch_size=8, shuffle=True, num_workers=0)\n",
    "# psum    = torch.tensor([0.0, 0.0, 0.0])\n",
    "# psum_sq = torch.tensor([0.0, 0.0, 0.0])\n",
    "# for inputs in dl:\n",
    "#   print(inputs['image'].shape)\n",
    "#   psum    += inputs['image'].sum(axis        = [0, 2, 3])\n",
    "#   psum_sq += (inputs['image'] ** 2).sum(axis = [0, 2, 3])\n",
    "\n",
    "# # pixel count\n",
    "# count = len(covid_dataset_train_val) * 512 * 512\n",
    "# # mean and std\n",
    "# total_mean = psum / count\n",
    "# total_var  = (psum_sq / count) - (total_mean ** 2)\n",
    "# total_std  = torch.sqrt(total_var)"
   ]
  },
  {
   "cell_type": "code",
   "execution_count": null,
   "metadata": {
    "id": "O0JAsgvup7Tx"
   },
   "outputs": [],
   "source": [
    "#split train test 0.7\n",
    "#Mini dataset based on proportion neg:pos 248:2805\n",
    "import torchvision\n",
    "import random\n",
    "random.seed(1)\n",
    "\n",
    "# mean,std for ResNext\n",
    "mean=[0.4945, 0.4945, 0.4945]\n",
    "std=[0.3744, 0.3744, 0.3744]\n",
    "\n",
    "\n",
    "train_transform = transforms.Compose([\n",
    "    transforms.ToPILImage(),\n",
    "    #transforms.Resize((256, 256)),\n",
    "    transforms.ToTensor(),\n",
    "    transforms.Normalize(mean, std)\n",
    "])\n",
    "\n",
    "covid_dataset_train_val = CovidDataset(csv_file='drive/MyDrive/Train/Train.csv',\n",
    "                                    root_dir='drive/MyDrive/Train/Train',\n",
    "                                    transform = train_transform\n",
    "                                    )\n",
    "\n",
    "covid_dataset_test = CovidTestDataset(root_dir='drive/MyDrive/Test/Val')\n",
    "\n",
    "\n",
    "mini_train_neg=list(random.sample(range(0, 248), int(248 * 0.7))) # 173\n",
    "\n",
    "mini_train_pos=list(random.sample(range(249, 3053), int(2805 * 0.7))) # 1963\n",
    "\n",
    "l1=[]\n",
    "l2=[]\n",
    "for i in range(0, 248):\n",
    "  if i not in mini_train_neg:\n",
    "    l1.append(i)\n",
    "\n",
    "for i in range(249, 3053):\n",
    "  if i not in mini_train_pos:\n",
    "    l2.append(i)\n",
    "\n",
    "\n",
    "mini_val_neg = l1\n",
    "mini_val_pos = l2\n",
    "\n",
    "train_pos = torch.utils.data.Subset(covid_dataset_train_val,mini_train_pos )\n",
    "train_neg = torch.utils.data.Subset(covid_dataset_train_val,mini_train_neg )\n",
    "train = torch.utils.data.ConcatDataset([train_pos, train_neg])\n",
    "\n",
    "val_pos = torch.utils.data.Subset(covid_dataset_train_val,mini_val_pos )\n",
    "val_neg=torch.utils.data.Subset(covid_dataset_train_val,mini_val_neg )\n",
    "val = torch.utils.data.ConcatDataset([val_neg, val_pos])\n"
   ]
  },
  {
   "cell_type": "code",
   "execution_count": null,
   "metadata": {
    "colab": {
     "base_uri": "https://localhost:8080/"
    },
    "id": "8khnfiLdDZmn",
    "outputId": "ca555104-bfcf-41de-8153-2d4898af14c7"
   },
   "outputs": [
    {
     "name": "stdout",
     "output_type": "stream",
     "text": [
      "{'image': tensor([[[-1.3208, -1.3208, -1.3208,  ..., -1.3208, -1.3208, -1.3208],\n",
      "         [-1.3208, -1.3208, -1.3208,  ..., -1.3208, -1.3208, -1.3208],\n",
      "         [-1.3208, -1.3208, -1.3208,  ..., -1.3208, -1.3208, -1.3208],\n",
      "         ...,\n",
      "         [-1.3208, -1.3208, -1.3208,  ..., -1.3208, -1.3208, -1.3208],\n",
      "         [-1.3208, -1.3208, -1.3208,  ..., -1.3208, -1.3208, -1.3208],\n",
      "         [-1.3208, -1.3208, -1.3208,  ..., -1.3208, -1.3208, -1.3208]],\n",
      "\n",
      "        [[-1.3208, -1.3208, -1.3208,  ..., -1.3208, -1.3208, -1.3208],\n",
      "         [-1.3208, -1.3208, -1.3208,  ..., -1.3208, -1.3208, -1.3208],\n",
      "         [-1.3208, -1.3208, -1.3208,  ..., -1.3208, -1.3208, -1.3208],\n",
      "         ...,\n",
      "         [-1.3208, -1.3208, -1.3208,  ..., -1.3208, -1.3208, -1.3208],\n",
      "         [-1.3208, -1.3208, -1.3208,  ..., -1.3208, -1.3208, -1.3208],\n",
      "         [-1.3208, -1.3208, -1.3208,  ..., -1.3208, -1.3208, -1.3208]],\n",
      "\n",
      "        [[-1.3208, -1.3208, -1.3208,  ..., -1.3208, -1.3208, -1.3208],\n",
      "         [-1.3208, -1.3208, -1.3208,  ..., -1.3208, -1.3208, -1.3208],\n",
      "         [-1.3208, -1.3208, -1.3208,  ..., -1.3208, -1.3208, -1.3208],\n",
      "         ...,\n",
      "         [-1.3208, -1.3208, -1.3208,  ..., -1.3208, -1.3208, -1.3208],\n",
      "         [-1.3208, -1.3208, -1.3208,  ..., -1.3208, -1.3208, -1.3208],\n",
      "         [-1.3208, -1.3208, -1.3208,  ..., -1.3208, -1.3208, -1.3208]]]), 'percentage': 5.0, 'subject': 52, 'img_name': 'drive/MyDrive/Train/Train/Image_1272.png'}\n"
     ]
    }
   ],
   "source": [
    "print(train[0])"
   ]
  },
  {
   "cell_type": "code",
   "execution_count": null,
   "metadata": {
    "id": "oL3jOThzHqze"
   },
   "outputs": [],
   "source": [
    "#mini\n",
    "train_dataloader = DataLoader(train, batch_size=8, shuffle=True, num_workers=0)\n",
    "val_dataloader = DataLoader(val, batch_size=8, shuffle=True, num_workers=0)\n",
    "\n",
    "test_dataloader = DataLoader(covid_dataset_test, batch_size=8, shuffle=True, num_workers=0)"
   ]
  },
  {
   "cell_type": "code",
   "execution_count": null,
   "metadata": {
    "colab": {
     "base_uri": "https://localhost:8080/",
     "height": 87
    },
    "id": "EiA6ycQE1wXu",
    "outputId": "0bd79604-e92b-4772-b297-80c9653a3d0a"
   },
   "outputs": [
    {
     "data": {
      "application/vnd.google.colaboratory.intrinsic+json": {
       "type": "string"
      },
      "text/plain": [
       "'## split given train set to train & val set\\n\\n#dataloader = DataLoader(covid_dataset, batch_size=4, shuffle=True, num_workers=0)\\nprint(len(covid_dataset_train_val))\\ntrain_size = int(0.7 * len(covid_dataset_train_val))\\nval_size = len(covid_dataset_train_val) - train_size\\nprint(train_size, val_size)\\ntrain_dataset, val_dataset = torch.utils.data.random_split(covid_dataset_train_val, [train_size, val_size])  # randomly split is a good choice or not.\\ntrain_dataloader = DataLoader(train_dataset, batch_size=8, shuffle=True, num_workers=0)\\nval_dataloader = DataLoader(val_dataset, batch_size=8, shuffle=True, num_workers=0)\\n\\n## test set\\ntest_dataloader = DataLoader(covid_dataset_test, batch_size=8, shuffle=True, num_workers=0)'"
      ]
     },
     "execution_count": 89,
     "metadata": {},
     "output_type": "execute_result"
    }
   ],
   "source": [
    "'''## split given train set to train & val set\n",
    "\n",
    "#dataloader = DataLoader(covid_dataset, batch_size=4, shuffle=True, num_workers=0)\n",
    "print(len(covid_dataset_train_val))\n",
    "train_size = int(0.7 * len(covid_dataset_train_val))\n",
    "val_size = len(covid_dataset_train_val) - train_size\n",
    "print(train_size, val_size)\n",
    "train_dataset, val_dataset = torch.utils.data.random_split(covid_dataset_train_val, [train_size, val_size])  # randomly split is a good choice or not.\n",
    "train_dataloader = DataLoader(train_dataset, batch_size=8, shuffle=True, num_workers=0)\n",
    "val_dataloader = DataLoader(val_dataset, batch_size=8, shuffle=True, num_workers=0)\n",
    "\n",
    "## test set\n",
    "test_dataloader = DataLoader(covid_dataset_test, batch_size=8, shuffle=True, num_workers=0)'''"
   ]
  },
  {
   "cell_type": "markdown",
   "metadata": {
    "id": "OClBrnNnRK_t"
   },
   "source": [
    "## Import pretrained models library"
   ]
  },
  {
   "cell_type": "code",
   "execution_count": null,
   "metadata": {
    "colab": {
     "base_uri": "https://localhost:8080/"
    },
    "id": "sIQiUJcyvJ1y",
    "outputId": "7ff46b32-dfdf-4e3e-81b7-b4c3059329db"
   },
   "outputs": [
    {
     "name": "stdout",
     "output_type": "stream",
     "text": [
      "Requirement already satisfied: pretrainedmodels in /usr/local/lib/python3.7/dist-packages (0.7.4)\n",
      "Requirement already satisfied: munch in /usr/local/lib/python3.7/dist-packages (from pretrainedmodels) (2.5.0)\n",
      "Requirement already satisfied: torchvision in /usr/local/lib/python3.7/dist-packages (from pretrainedmodels) (0.11.1+cu111)\n",
      "Requirement already satisfied: tqdm in /usr/local/lib/python3.7/dist-packages (from pretrainedmodels) (4.62.3)\n",
      "Requirement already satisfied: torch in /usr/local/lib/python3.7/dist-packages (from pretrainedmodels) (1.10.0+cu111)\n",
      "Requirement already satisfied: six in /usr/local/lib/python3.7/dist-packages (from munch->pretrainedmodels) (1.15.0)\n",
      "Requirement already satisfied: typing-extensions in /usr/local/lib/python3.7/dist-packages (from torch->pretrainedmodels) (3.10.0.2)\n",
      "Requirement already satisfied: pillow!=8.3.0,>=5.3.0 in /usr/local/lib/python3.7/dist-packages (from torchvision->pretrainedmodels) (7.1.2)\n",
      "Requirement already satisfied: numpy in /usr/local/lib/python3.7/dist-packages (from torchvision->pretrainedmodels) (1.21.5)\n"
     ]
    }
   ],
   "source": [
    "## use imagenet pretrained model\n",
    "## let's start with resnet34\n",
    "!pip install pretrainedmodels"
   ]
  },
  {
   "cell_type": "markdown",
   "metadata": {
    "id": "NJTMiALSRRHC"
   },
   "source": [
    "## Use CUDA to speed up training"
   ]
  },
  {
   "cell_type": "code",
   "execution_count": 11,
   "metadata": {
    "colab": {
     "base_uri": "https://localhost:8080/"
    },
    "id": "1BT-6cVxs_iT",
    "outputId": "6619b245-6c1e-44a3-8159-b89d793d4253"
   },
   "outputs": [
    {
     "name": "stdout",
     "output_type": "stream",
     "text": [
      "cuda:0\n"
     ]
    }
   ],
   "source": [
    "import torch\n",
    "device = torch.device(\"cuda:0\" if torch.cuda.is_available() else \"cpu\")\n",
    "print(device)"
   ]
  },
  {
   "cell_type": "markdown",
   "metadata": {
    "id": "wqPiUx1XRbIL"
   },
   "source": [
    "## Create Baseline Model"
   ]
  },
  {
   "cell_type": "code",
   "execution_count": null,
   "metadata": {
    "id": "Tl9GV4oRqutR"
   },
   "outputs": [],
   "source": [
    "import pretrainedmodels\n",
    "#For model building\n",
    "import torch\n",
    "from torch import nn, optim\n",
    "import torchvision\n",
    "from torch.nn import functional as F"
   ]
  },
  {
   "cell_type": "code",
   "execution_count": null,
   "metadata": {
    "id": "6DIFuG0hvZn7"
   },
   "outputs": [],
   "source": [
    "class CNN1(nn.Module):\n",
    "    def __init__(self, pretrained=True, pretrianed_model_name=\"resnet34\"):\n",
    "        super(CNN1, self).__init__()\n",
    "        if pretrained is True:\n",
    "            self.model = pretrainedmodels.__dict__[pretrianed_model_name](pretrained=\"imagenet\")\n",
    "        else:\n",
    "            self.model = pretrainedmodels.__dict__[pretrianed_model_name](pretrained=None)\n",
    "        #self.fc1 = nn.Linear(512, 256)\n",
    "\n",
    "        # for param in self.model.parameters():\n",
    "        #     param.requires_grad = False\n",
    "\n",
    "        self.pretrianed_model_name = pretrianed_model_name\n",
    "        self.conv1 = nn.Conv2d(512, 128, (5,5), stride=1, padding =0)\n",
    "        self.conv2 = nn.Conv2d(128, 32, (5,5), stride=1, padding =0)\n",
    "        self.dropout = nn.Dropout(p=0.5)\n",
    "        self.conv3 = nn.Conv2d(32, 8, (5,5), stride=1, padding =0)\n",
    "        self.fc1 = nn.Linear(128, 1)\n",
    "\n",
    "    def forward(self, x):\n",
    "        bs, _, _, _ = x.shape\n",
    "        x = self.model.features(x)\n",
    "        #x = F.adaptive_avg_pool2d(x) #.reshape(bs, -1)\n",
    "        #x = F.relu(self.fc1(x))\n",
    "        x = self.conv1(x)\n",
    "        x = self.conv2(x)\n",
    "        x = self.dropout(x)\n",
    "        x = self.conv3(F.relu(x))\n",
    "        #print(x.size()) # [8, 8, 4, 4]\n",
    "        label = self.fc1(x.reshape(bs, -1))  # [8, 128]\n",
    "        return label\n",
    "\n",
    "    def get_pretrianed_model_name(self):\n",
    "        return self.pretrianed_model_name\n",
    "\n",
    "class CNN2(nn.Module):\n",
    "    def __init__(self, pretrained=True, pretrianed_model_name=\"resnet50\"):\n",
    "        super(CNN2, self).__init__()\n",
    "        if pretrained is True:\n",
    "            self.model = pretrainedmodels.__dict__[pretrianed_model_name](pretrained=\"imagenet\")\n",
    "        else:\n",
    "            self.model = pretrainedmodels.__dict__[pretrianed_model_name](pretrained=None)\n",
    "        #self.fc1 = nn.Linear(512, 256)\n",
    "        self.pretrianed_model_name = pretrianed_model_name\n",
    "        self.conv1 = nn.Conv2d(2048, 128, (5,5), stride=1, padding =0)\n",
    "        self.conv2 = nn.Conv2d(128, 32, (5,5), stride=1, padding =0)\n",
    "        self.dropout = nn.Dropout(p=0.5)\n",
    "        self.conv3 = nn.Conv2d(32, 8, (5,5), stride=1, padding =0)\n",
    "        self.fc1 = nn.Linear(128, 1)\n",
    "        \n",
    "    def forward(self, x):\n",
    "        bs, _, _, _ = x.shape\n",
    "        x = self.model.features(x)\n",
    "        #x = F.adaptive_avg_pool2d(x) #.reshape(bs, -1)\n",
    "        #x = F.relu(self.fc1(x))\n",
    "        x = self.conv1(x)\n",
    "        x = self.conv2(x)\n",
    "        x = self.dropout(x)\n",
    "        x = self.conv3(F.relu(x))\n",
    "        #print(x.size()) # [8, 8, 4, 4]\n",
    "        label = self.fc1(x.reshape(bs, -1))  # [8, 128]\n",
    "        return label\n",
    "\n",
    "    def get_pretrianed_model_name(self):\n",
    "        return self.pretrianed_model_name\n",
    "\n",
    "class CNN3(nn.Module):\n",
    "    def __init__(self, pretrained=True, pretrianed_model_name=\"resnet101\"):\n",
    "        super(CNN3, self).__init__()\n",
    "        if pretrained is True:\n",
    "            self.model = pretrainedmodels.__dict__[pretrianed_model_name](pretrained=\"imagenet\")\n",
    "        else:\n",
    "            self.model = pretrainedmodels.__dict__[pretrianed_model_name](pretrained=None)\n",
    "        #self.fc1 = nn.Linear(512, 256)\n",
    "        self.pretrianed_model_name = pretrianed_model_name\n",
    "        self.conv1 = nn.Conv2d(2048, 128, (5,5), stride=1, padding =0)\n",
    "        self.conv2 = nn.Conv2d(128, 32, (5,5), stride=1, padding =0)\n",
    "        self.dropout = nn.Dropout(p=0.5)\n",
    "        self.conv3 = nn.Conv2d(32, 8, (5,5), stride=1, padding =0)\n",
    "        self.fc1 = nn.Linear(128, 1)\n",
    "        \n",
    "    def forward(self, x):\n",
    "        bs, _, _, _ = x.shape\n",
    "        x = self.model.features(x)\n",
    "        #x = F.adaptive_avg_pool2d(x) #.reshape(bs, -1)\n",
    "        #x = F.relu(self.fc1(x))\n",
    "        x = self.conv1(x)\n",
    "        x = self.conv2(x)\n",
    "        x = self.dropout(x)\n",
    "        x = self.conv3(F.relu(x))\n",
    "        #print(x.size()) # [8, 8, 4, 4]\n",
    "        label = self.fc1(x.reshape(bs, -1))  # [8, 128]\n",
    "        return label\n",
    "\n",
    "    def get_pretrianed_model_name(self):\n",
    "        return self.pretrianed_model_name\n",
    "\n",
    "\n",
    "class CNN4(nn.Module):\n",
    "    def __init__(self, pretrained=True, pretrianed_model_name=\"vgg16\"):\n",
    "        super(CNN4, self).__init__()\n",
    "        if pretrained is True:\n",
    "            self.model = pretrainedmodels.__dict__[pretrianed_model_name](pretrained=\"imagenet\")\n",
    "        else:\n",
    "            self.model = pretrainedmodels.__dict__[pretrianed_model_name](pretrained=None)\n",
    "        #self.fc1 = nn.Linear(512, 256)\n",
    "        self.pretrianed_model_name = pretrianed_model_name\n",
    "        self.conv1 = nn.Conv2d(4096, 128, (5,5), stride=1, padding =0)\n",
    "        self.conv2 = nn.Conv2d(128, 32, (5,5), stride=1, padding =0)\n",
    "        self.dropout = nn.Dropout(p=0.5)\n",
    "        self.conv3 = nn.Conv2d(32, 8, (5,5), stride=1, padding =0)\n",
    "        self.fc1 = nn.Linear(128, 1)\n",
    "        \n",
    "    def forward(self, x):\n",
    "        bs, _, _, _ = x.shape\n",
    "        x = self.model.features(x)\n",
    "        #x = F.adaptive_avg_pool2d(x) #.reshape(bs, -1)\n",
    "        #x = F.relu(self.fc1(x))\n",
    "        x = self.conv1(x)\n",
    "        x = self.conv2(x)\n",
    "        x = self.dropout(x)\n",
    "        x = self.conv3(F.relu(x))\n",
    "        #print(x.size()) # [8, 8, 4, 4]\n",
    "        label = self.fc1(x.reshape(bs, -1))  # [8, 128]\n",
    "        return label\n",
    "\n",
    "    def get_pretrianed_model_name(self):\n",
    "        return self.pretrianed_model_name"
   ]
  },
  {
   "cell_type": "code",
   "execution_count": null,
   "metadata": {
    "id": "YACp41DgCtPP"
   },
   "outputs": [],
   "source": [
    "from torch.nn import functional as F\n",
    "\n",
    "class CNNmz(nn.Module):\n",
    "    def __init__(self, pretrained=True):\n",
    "        super(CNNmz, self).__init__()\n",
    "        if pretrained is True:\n",
    "            self.model = pretrainedmodels.__dict__[\"resnet34\"](pretrained=\"imagenet\")\n",
    "        else:\n",
    "            self.model = pretrainedmodels.__dict__[\"resnet34\"](pretrained=None)\n",
    "        \n",
    "        for param in self.model.parameters():\n",
    "            param.requires_grad = False\n",
    "    \n",
    "        self.model.fc = nn.Sequential(\n",
    "                      nn.Linear(2048, 128),\n",
    "                      nn.ReLU(inplace=True))\n",
    "        self.linear=nn.Linear(128, 1)      \n",
    "          \n",
    "        #self.fc1 = nn.Linear(512, 256)\n",
    "        # self.conv1 = nn.Conv2d(512, 128, (5,5), stride=1, padding =0)\n",
    "        # self.conv2 = nn.Conv2d(128, 32, (5,5), stride=1, padding =0)\n",
    "        # self.dropout = nn.Dropout(p=0.5)\n",
    "        # self.conv3 = nn.Conv2d(32, 8, (5,5), stride=1, padding =0)\n",
    "        # self.fc1 = nn.Linear(128, 1)\n",
    "        \n",
    "    def forward(self, x):\n",
    "        bs, _, _, _ = x.shape\n",
    "        x = self.model.features(x)\n",
    "        #x = F.adaptive_avg_pool2d(x) #.reshape(bs, -1)\n",
    "        #x = F.relu(self.fc1(x))\n",
    "        # x = self.conv1(x)\n",
    "        # x = self.conv2(x)\n",
    "        # x = self.dropout(x)\n",
    "        # x = self.conv3(F.relu(x))\n",
    "        #print(x.size()) # [8, 8, 4, 4]\n",
    "        #label = self.fc1(x.reshape(bs, -1))  # [8, 128]\n",
    "        return self.linear(self.model(x))"
   ]
  },
  {
   "cell_type": "markdown",
   "metadata": {
    "id": "L92JiqerRGl9"
   },
   "source": [
    "# begin"
   ]
  },
  {
   "cell_type": "code",
   "execution_count": null,
   "metadata": {
    "id": "Uz8asgJpq4Zm"
   },
   "outputs": [],
   "source": [
    "def choose_model(chosen_name = 'resnet34'):\n",
    "\n",
    "    if chosen_name == 'resnet34':\n",
    "        model_CNN = CNN1(True, chosen_name).to(device)\n",
    "    elif chosen_name == 'resnet50':\n",
    "        model_CNN = CNN2(True, chosen_name).to(device)\n",
    "    elif chosen_name == 'resnet101':\n",
    "        model_CNN = CNN3(True, chosen_name).to(device)\n",
    "    elif chosen_name == 'vgg16':\n",
    "        model_CNN = CNN4(True, chosen_name).to(device)\n",
    "    elif chosen_name == 'vgg16_bn':\n",
    "        model_CNN = CNN5(True, chosen_name).to(device)\n",
    "    elif chosen_name == 'resnet34mz':\n",
    "        model_CNN = CNN1(True).to(device)\n",
    "    return model_CNN"
   ]
  },
  {
   "cell_type": "code",
   "execution_count": null,
   "metadata": {
    "colab": {
     "base_uri": "https://localhost:8080/",
     "height": 35
    },
    "id": "wmZtoLntTBGv",
    "outputId": "c2502df0-7f13-4fce-a074-5cb826112249"
   },
   "outputs": [
    {
     "data": {
      "application/vnd.google.colaboratory.intrinsic+json": {
       "type": "string"
      },
      "text/plain": [
       "'2022-02-24-05-09-43'"
      ]
     },
     "execution_count": 96,
     "metadata": {},
     "output_type": "execute_result"
    }
   ],
   "source": [
    "today = datetime.now().strftime('%Y-%m-%d-%H-%M-%S')\n",
    "today"
   ]
  },
  {
   "cell_type": "code",
   "execution_count": null,
   "metadata": {
    "id": "VSklLyGys4tz"
   },
   "outputs": [],
   "source": [
    "chosen_name = 'resnet34mz'\n",
    "model_CNN = choose_model(chosen_name)"
   ]
  },
  {
   "cell_type": "code",
   "execution_count": null,
   "metadata": {
    "id": "ufc5DuRU_8VO"
   },
   "outputs": [],
   "source": [
    "#Setting model and moving to device\n",
    "criterion = nn.L1Loss()\n",
    "#optimizer = optim.SGD(model_CNN.parameters(), lr=0.001, momentum=0.9)\n",
    "optimizer = optim.Adam(model_CNN.parameters(), lr=0.001)"
   ]
  },
  {
   "cell_type": "code",
   "execution_count": null,
   "metadata": {
    "id": "O42uOYtUAK2D"
   },
   "outputs": [],
   "source": [
    "def train_model(model, criterion, optimizer, n_epochs=20):\n",
    "    \"\"\"returns trained model\"\"\"\n",
    "    # initialize tracker for minimum validation loss\n",
    "    valid_loss_min = np.Inf\n",
    "    trainloss=[]\n",
    "    testloss=[]\n",
    "    for epoch in range(1, n_epochs):\n",
    "        train_loss = 0.0\n",
    "        valid_loss = 0.0\n",
    "        # train the model #\n",
    "        model.train()\n",
    "        for batch_idx, sample_batched in enumerate(train_dataloader):\n",
    "            # importing data and moving to GPU\n",
    "            image, label = sample_batched['image'].to(device), sample_batched['percentage'].to(device)\n",
    "            # zero the parameter gradients\n",
    "            optimizer.zero_grad()\n",
    "            output=model(image).reshape(-1)\n",
    "            # calculate loss\n",
    "            loss = criterion((output).type(torch.FloatTensor).to(device), label.type(torch.FloatTensor).to(device))\n",
    "            # back prop\n",
    "            loss.backward()\n",
    "            # grad\n",
    "            optimizer.step()\n",
    "            train_loss = train_loss + ((1 / (batch_idx + 1)) * (loss.data - train_loss))\n",
    "            if batch_idx % 100 == 0:\n",
    "                print('Epoch %d, Batch %d loss: %.6f' %\n",
    "                  (epoch, batch_idx + 1, train_loss))\n",
    "        # validate the model #\n",
    "        model.eval()\n",
    "        for batch_idx, sample_batched in enumerate(val_dataloader):\n",
    "            image, label = sample_batched['image'].to(device), sample_batched['percentage'].to(device)  \n",
    "            output = model(image).reshape(-1)\n",
    "            # calculate loss\n",
    "            loss=criterion((output).type(torch.FloatTensor).to(device), label.type(torch.FloatTensor).to(device))\n",
    "            valid_loss = valid_loss + ((1 / (batch_idx + 1)) * (loss.data - valid_loss))\n",
    "        \n",
    "        # print training/validation statistics \n",
    "        print('Epoch: {} \\tTraining Loss: {:.6f} \\tValidation Loss: {:.6f}'.format(\n",
    "            epoch, train_loss, valid_loss))\n",
    "        \n",
    "        trainloss.append(train_loss)\n",
    "        testloss.append(valid_loss)               \n",
    "        \n",
    "        ## TODO: save the model if validation loss has decreased\n",
    "        if valid_loss < valid_loss_min:\n",
    "            torch.save(model, 'training_log/model_' + model.get_pretrianed_model_name() + '_' + str(today) + '.pt')\n",
    "            print('Validation loss decreased ({:.6f} --> {:.6f}).  Saving model ...'.format(\n",
    "            valid_loss_min,\n",
    "            valid_loss))\n",
    "            valid_loss_min = valid_loss\n",
    "    # return trained model\n",
    "    return (model, trainloss, testloss)"
   ]
  },
  {
   "cell_type": "code",
   "execution_count": null,
   "metadata": {
    "colab": {
     "background_save": true,
     "base_uri": "https://localhost:8080/"
    },
    "id": "pRcDzZQnAScu",
    "outputId": "43dc5b95-96cf-46a4-e607-c7a7078c49df"
   },
   "outputs": [
    {
     "name": "stdout",
     "output_type": "stream",
     "text": [
      "Epoch 1, Batch 1 loss: 16.944733\n",
      "Epoch 1, Batch 101 loss: 15.953613\n",
      "Epoch 1, Batch 201 loss: 15.509143\n",
      "Epoch: 1 \tTraining Loss: 15.085987 \tValidation Loss: 11.542273\n",
      "Validation loss decreased (inf --> 11.542273).  Saving model ...\n",
      "Epoch 2, Batch 1 loss: 17.465397\n",
      "Epoch 2, Batch 101 loss: 14.442591\n",
      "Epoch 2, Batch 201 loss: 13.552688\n",
      "Epoch: 2 \tTraining Loss: 13.229334 \tValidation Loss: 9.883512\n",
      "Validation loss decreased (11.542273 --> 9.883512).  Saving model ...\n",
      "Epoch 3, Batch 1 loss: 2.649140\n",
      "Epoch 3, Batch 101 loss: 13.374829\n",
      "Epoch 3, Batch 201 loss: 12.561361\n",
      "Epoch: 3 \tTraining Loss: 12.212259 \tValidation Loss: 8.993526\n",
      "Validation loss decreased (9.883512 --> 8.993526).  Saving model ...\n",
      "Epoch 4, Batch 1 loss: 10.339397\n",
      "Epoch 4, Batch 101 loss: 9.767925\n",
      "Epoch 4, Batch 201 loss: 10.123157\n",
      "Epoch: 4 \tTraining Loss: 10.037290 \tValidation Loss: 13.821219\n",
      "Epoch 5, Batch 1 loss: 2.564132\n",
      "Epoch 5, Batch 101 loss: 10.084122\n",
      "Epoch 5, Batch 201 loss: 10.119036\n",
      "Epoch: 5 \tTraining Loss: 10.286191 \tValidation Loss: 14.859749\n",
      "Epoch 6, Batch 1 loss: 9.980514\n",
      "Epoch 6, Batch 101 loss: 10.467106\n",
      "Epoch 6, Batch 201 loss: 9.800037\n",
      "Epoch: 6 \tTraining Loss: 9.748709 \tValidation Loss: 16.537031\n",
      "Epoch 7, Batch 1 loss: 10.992315\n",
      "Epoch 7, Batch 101 loss: 8.201946\n",
      "Epoch 7, Batch 201 loss: 8.881536\n",
      "Epoch: 7 \tTraining Loss: 8.928484 \tValidation Loss: 14.013567\n",
      "Epoch 8, Batch 1 loss: 6.871463\n",
      "Epoch 8, Batch 101 loss: 8.927133\n",
      "Epoch 8, Batch 201 loss: 8.518804\n",
      "Epoch: 8 \tTraining Loss: 8.363563 \tValidation Loss: 6.765594\n",
      "Validation loss decreased (8.993526 --> 6.765594).  Saving model ...\n",
      "Epoch 9, Batch 1 loss: 3.948542\n",
      "Epoch 9, Batch 101 loss: 7.736380\n",
      "Epoch 9, Batch 201 loss: 8.331862\n",
      "Epoch: 9 \tTraining Loss: 8.381738 \tValidation Loss: 7.958988\n",
      "Epoch 10, Batch 1 loss: 9.162977\n",
      "Epoch 10, Batch 101 loss: 7.918105\n",
      "Epoch 10, Batch 201 loss: 8.233934\n",
      "Epoch: 10 \tTraining Loss: 8.155131 \tValidation Loss: 8.168648\n",
      "Epoch 11, Batch 1 loss: 4.957943\n",
      "Epoch 11, Batch 101 loss: 7.690852\n",
      "Epoch 11, Batch 201 loss: 7.569928\n",
      "Epoch: 11 \tTraining Loss: 7.614708 \tValidation Loss: 6.437818\n",
      "Validation loss decreased (6.765594 --> 6.437818).  Saving model ...\n",
      "Epoch 12, Batch 1 loss: 10.155914\n",
      "Epoch 12, Batch 101 loss: 7.183838\n",
      "Epoch 12, Batch 201 loss: 7.178656\n",
      "Epoch: 12 \tTraining Loss: 7.299870 \tValidation Loss: 6.921901\n",
      "Epoch 13, Batch 1 loss: 7.081517\n",
      "Epoch 13, Batch 101 loss: 7.516215\n",
      "Epoch 13, Batch 201 loss: 7.058075\n",
      "Epoch: 13 \tTraining Loss: 6.860966 \tValidation Loss: 6.215948\n",
      "Validation loss decreased (6.437818 --> 6.215948).  Saving model ...\n",
      "Epoch 14, Batch 1 loss: 6.337082\n",
      "Epoch 14, Batch 101 loss: 7.111738\n",
      "Epoch 14, Batch 201 loss: 6.984247\n",
      "Epoch: 14 \tTraining Loss: 7.106800 \tValidation Loss: 5.459520\n",
      "Validation loss decreased (6.215948 --> 5.459520).  Saving model ...\n",
      "Epoch 15, Batch 1 loss: 9.030828\n",
      "Epoch 15, Batch 101 loss: 6.851467\n",
      "Epoch 15, Batch 201 loss: 6.775328\n",
      "Epoch: 15 \tTraining Loss: 6.548708 \tValidation Loss: 5.438936\n",
      "Validation loss decreased (5.459520 --> 5.438936).  Saving model ...\n",
      "Epoch 16, Batch 1 loss: 4.790747\n",
      "Epoch 16, Batch 101 loss: 6.551294\n",
      "Epoch 16, Batch 201 loss: 6.712949\n",
      "Epoch: 16 \tTraining Loss: 6.700385 \tValidation Loss: 6.027510\n",
      "Epoch 17, Batch 1 loss: 4.889039\n",
      "Epoch 17, Batch 101 loss: 7.177753\n",
      "Epoch 17, Batch 201 loss: 7.036988\n",
      "Epoch: 17 \tTraining Loss: 7.063668 \tValidation Loss: 5.902754\n",
      "Epoch 18, Batch 1 loss: 3.999613\n",
      "Epoch 18, Batch 101 loss: 6.110497\n",
      "Epoch 18, Batch 201 loss: 6.369143\n",
      "Epoch: 18 \tTraining Loss: 6.462348 \tValidation Loss: 5.228199\n",
      "Validation loss decreased (5.438936 --> 5.228199).  Saving model ...\n",
      "Epoch 19, Batch 1 loss: 11.282955\n",
      "Epoch 19, Batch 101 loss: 6.547412\n",
      "Epoch 19, Batch 201 loss: 6.613102\n",
      "Epoch: 19 \tTraining Loss: 6.714739 \tValidation Loss: 5.661563\n"
     ]
    }
   ],
   "source": [
    "model_conv = train_model(model_CNN, criterion, optimizer)"
   ]
  },
  {
   "cell_type": "code",
   "execution_count": null,
   "metadata": {
    "colab": {
     "background_save": true
    },
    "id": "xMafjLttjomh",
    "outputId": "150fd67a-07bc-4d31-970c-7f55a63d40f8"
   },
   "outputs": [
    {
     "name": "stdout",
     "output_type": "stream",
     "text": [
      "CNN1(\n",
      "  (model): ResNet(\n",
      "    (conv1): Conv2d(3, 64, kernel_size=(7, 7), stride=(2, 2), padding=(3, 3), bias=False)\n",
      "    (bn1): BatchNorm2d(64, eps=1e-05, momentum=0.1, affine=True, track_running_stats=True)\n",
      "    (relu): ReLU(inplace=True)\n",
      "    (maxpool): MaxPool2d(kernel_size=3, stride=2, padding=1, dilation=1, ceil_mode=False)\n",
      "    (layer1): Sequential(\n",
      "      (0): BasicBlock(\n",
      "        (conv1): Conv2d(64, 64, kernel_size=(3, 3), stride=(1, 1), padding=(1, 1), bias=False)\n",
      "        (bn1): BatchNorm2d(64, eps=1e-05, momentum=0.1, affine=True, track_running_stats=True)\n",
      "        (relu): ReLU(inplace=True)\n",
      "        (conv2): Conv2d(64, 64, kernel_size=(3, 3), stride=(1, 1), padding=(1, 1), bias=False)\n",
      "        (bn2): BatchNorm2d(64, eps=1e-05, momentum=0.1, affine=True, track_running_stats=True)\n",
      "      )\n",
      "      (1): BasicBlock(\n",
      "        (conv1): Conv2d(64, 64, kernel_size=(3, 3), stride=(1, 1), padding=(1, 1), bias=False)\n",
      "        (bn1): BatchNorm2d(64, eps=1e-05, momentum=0.1, affine=True, track_running_stats=True)\n",
      "        (relu): ReLU(inplace=True)\n",
      "        (conv2): Conv2d(64, 64, kernel_size=(3, 3), stride=(1, 1), padding=(1, 1), bias=False)\n",
      "        (bn2): BatchNorm2d(64, eps=1e-05, momentum=0.1, affine=True, track_running_stats=True)\n",
      "      )\n",
      "      (2): BasicBlock(\n",
      "        (conv1): Conv2d(64, 64, kernel_size=(3, 3), stride=(1, 1), padding=(1, 1), bias=False)\n",
      "        (bn1): BatchNorm2d(64, eps=1e-05, momentum=0.1, affine=True, track_running_stats=True)\n",
      "        (relu): ReLU(inplace=True)\n",
      "        (conv2): Conv2d(64, 64, kernel_size=(3, 3), stride=(1, 1), padding=(1, 1), bias=False)\n",
      "        (bn2): BatchNorm2d(64, eps=1e-05, momentum=0.1, affine=True, track_running_stats=True)\n",
      "      )\n",
      "    )\n",
      "    (layer2): Sequential(\n",
      "      (0): BasicBlock(\n",
      "        (conv1): Conv2d(64, 128, kernel_size=(3, 3), stride=(2, 2), padding=(1, 1), bias=False)\n",
      "        (bn1): BatchNorm2d(128, eps=1e-05, momentum=0.1, affine=True, track_running_stats=True)\n",
      "        (relu): ReLU(inplace=True)\n",
      "        (conv2): Conv2d(128, 128, kernel_size=(3, 3), stride=(1, 1), padding=(1, 1), bias=False)\n",
      "        (bn2): BatchNorm2d(128, eps=1e-05, momentum=0.1, affine=True, track_running_stats=True)\n",
      "        (downsample): Sequential(\n",
      "          (0): Conv2d(64, 128, kernel_size=(1, 1), stride=(2, 2), bias=False)\n",
      "          (1): BatchNorm2d(128, eps=1e-05, momentum=0.1, affine=True, track_running_stats=True)\n",
      "        )\n",
      "      )\n",
      "      (1): BasicBlock(\n",
      "        (conv1): Conv2d(128, 128, kernel_size=(3, 3), stride=(1, 1), padding=(1, 1), bias=False)\n",
      "        (bn1): BatchNorm2d(128, eps=1e-05, momentum=0.1, affine=True, track_running_stats=True)\n",
      "        (relu): ReLU(inplace=True)\n",
      "        (conv2): Conv2d(128, 128, kernel_size=(3, 3), stride=(1, 1), padding=(1, 1), bias=False)\n",
      "        (bn2): BatchNorm2d(128, eps=1e-05, momentum=0.1, affine=True, track_running_stats=True)\n",
      "      )\n",
      "      (2): BasicBlock(\n",
      "        (conv1): Conv2d(128, 128, kernel_size=(3, 3), stride=(1, 1), padding=(1, 1), bias=False)\n",
      "        (bn1): BatchNorm2d(128, eps=1e-05, momentum=0.1, affine=True, track_running_stats=True)\n",
      "        (relu): ReLU(inplace=True)\n",
      "        (conv2): Conv2d(128, 128, kernel_size=(3, 3), stride=(1, 1), padding=(1, 1), bias=False)\n",
      "        (bn2): BatchNorm2d(128, eps=1e-05, momentum=0.1, affine=True, track_running_stats=True)\n",
      "      )\n",
      "      (3): BasicBlock(\n",
      "        (conv1): Conv2d(128, 128, kernel_size=(3, 3), stride=(1, 1), padding=(1, 1), bias=False)\n",
      "        (bn1): BatchNorm2d(128, eps=1e-05, momentum=0.1, affine=True, track_running_stats=True)\n",
      "        (relu): ReLU(inplace=True)\n",
      "        (conv2): Conv2d(128, 128, kernel_size=(3, 3), stride=(1, 1), padding=(1, 1), bias=False)\n",
      "        (bn2): BatchNorm2d(128, eps=1e-05, momentum=0.1, affine=True, track_running_stats=True)\n",
      "      )\n",
      "    )\n",
      "    (layer3): Sequential(\n",
      "      (0): BasicBlock(\n",
      "        (conv1): Conv2d(128, 256, kernel_size=(3, 3), stride=(2, 2), padding=(1, 1), bias=False)\n",
      "        (bn1): BatchNorm2d(256, eps=1e-05, momentum=0.1, affine=True, track_running_stats=True)\n",
      "        (relu): ReLU(inplace=True)\n",
      "        (conv2): Conv2d(256, 256, kernel_size=(3, 3), stride=(1, 1), padding=(1, 1), bias=False)\n",
      "        (bn2): BatchNorm2d(256, eps=1e-05, momentum=0.1, affine=True, track_running_stats=True)\n",
      "        (downsample): Sequential(\n",
      "          (0): Conv2d(128, 256, kernel_size=(1, 1), stride=(2, 2), bias=False)\n",
      "          (1): BatchNorm2d(256, eps=1e-05, momentum=0.1, affine=True, track_running_stats=True)\n",
      "        )\n",
      "      )\n",
      "      (1): BasicBlock(\n",
      "        (conv1): Conv2d(256, 256, kernel_size=(3, 3), stride=(1, 1), padding=(1, 1), bias=False)\n",
      "        (bn1): BatchNorm2d(256, eps=1e-05, momentum=0.1, affine=True, track_running_stats=True)\n",
      "        (relu): ReLU(inplace=True)\n",
      "        (conv2): Conv2d(256, 256, kernel_size=(3, 3), stride=(1, 1), padding=(1, 1), bias=False)\n",
      "        (bn2): BatchNorm2d(256, eps=1e-05, momentum=0.1, affine=True, track_running_stats=True)\n",
      "      )\n",
      "      (2): BasicBlock(\n",
      "        (conv1): Conv2d(256, 256, kernel_size=(3, 3), stride=(1, 1), padding=(1, 1), bias=False)\n",
      "        (bn1): BatchNorm2d(256, eps=1e-05, momentum=0.1, affine=True, track_running_stats=True)\n",
      "        (relu): ReLU(inplace=True)\n",
      "        (conv2): Conv2d(256, 256, kernel_size=(3, 3), stride=(1, 1), padding=(1, 1), bias=False)\n",
      "        (bn2): BatchNorm2d(256, eps=1e-05, momentum=0.1, affine=True, track_running_stats=True)\n",
      "      )\n",
      "      (3): BasicBlock(\n",
      "        (conv1): Conv2d(256, 256, kernel_size=(3, 3), stride=(1, 1), padding=(1, 1), bias=False)\n",
      "        (bn1): BatchNorm2d(256, eps=1e-05, momentum=0.1, affine=True, track_running_stats=True)\n",
      "        (relu): ReLU(inplace=True)\n",
      "        (conv2): Conv2d(256, 256, kernel_size=(3, 3), stride=(1, 1), padding=(1, 1), bias=False)\n",
      "        (bn2): BatchNorm2d(256, eps=1e-05, momentum=0.1, affine=True, track_running_stats=True)\n",
      "      )\n",
      "      (4): BasicBlock(\n",
      "        (conv1): Conv2d(256, 256, kernel_size=(3, 3), stride=(1, 1), padding=(1, 1), bias=False)\n",
      "        (bn1): BatchNorm2d(256, eps=1e-05, momentum=0.1, affine=True, track_running_stats=True)\n",
      "        (relu): ReLU(inplace=True)\n",
      "        (conv2): Conv2d(256, 256, kernel_size=(3, 3), stride=(1, 1), padding=(1, 1), bias=False)\n",
      "        (bn2): BatchNorm2d(256, eps=1e-05, momentum=0.1, affine=True, track_running_stats=True)\n",
      "      )\n",
      "      (5): BasicBlock(\n",
      "        (conv1): Conv2d(256, 256, kernel_size=(3, 3), stride=(1, 1), padding=(1, 1), bias=False)\n",
      "        (bn1): BatchNorm2d(256, eps=1e-05, momentum=0.1, affine=True, track_running_stats=True)\n",
      "        (relu): ReLU(inplace=True)\n",
      "        (conv2): Conv2d(256, 256, kernel_size=(3, 3), stride=(1, 1), padding=(1, 1), bias=False)\n",
      "        (bn2): BatchNorm2d(256, eps=1e-05, momentum=0.1, affine=True, track_running_stats=True)\n",
      "      )\n",
      "    )\n",
      "    (layer4): Sequential(\n",
      "      (0): BasicBlock(\n",
      "        (conv1): Conv2d(256, 512, kernel_size=(3, 3), stride=(2, 2), padding=(1, 1), bias=False)\n",
      "        (bn1): BatchNorm2d(512, eps=1e-05, momentum=0.1, affine=True, track_running_stats=True)\n",
      "        (relu): ReLU(inplace=True)\n",
      "        (conv2): Conv2d(512, 512, kernel_size=(3, 3), stride=(1, 1), padding=(1, 1), bias=False)\n",
      "        (bn2): BatchNorm2d(512, eps=1e-05, momentum=0.1, affine=True, track_running_stats=True)\n",
      "        (downsample): Sequential(\n",
      "          (0): Conv2d(256, 512, kernel_size=(1, 1), stride=(2, 2), bias=False)\n",
      "          (1): BatchNorm2d(512, eps=1e-05, momentum=0.1, affine=True, track_running_stats=True)\n",
      "        )\n",
      "      )\n",
      "      (1): BasicBlock(\n",
      "        (conv1): Conv2d(512, 512, kernel_size=(3, 3), stride=(1, 1), padding=(1, 1), bias=False)\n",
      "        (bn1): BatchNorm2d(512, eps=1e-05, momentum=0.1, affine=True, track_running_stats=True)\n",
      "        (relu): ReLU(inplace=True)\n",
      "        (conv2): Conv2d(512, 512, kernel_size=(3, 3), stride=(1, 1), padding=(1, 1), bias=False)\n",
      "        (bn2): BatchNorm2d(512, eps=1e-05, momentum=0.1, affine=True, track_running_stats=True)\n",
      "      )\n",
      "      (2): BasicBlock(\n",
      "        (conv1): Conv2d(512, 512, kernel_size=(3, 3), stride=(1, 1), padding=(1, 1), bias=False)\n",
      "        (bn1): BatchNorm2d(512, eps=1e-05, momentum=0.1, affine=True, track_running_stats=True)\n",
      "        (relu): ReLU(inplace=True)\n",
      "        (conv2): Conv2d(512, 512, kernel_size=(3, 3), stride=(1, 1), padding=(1, 1), bias=False)\n",
      "        (bn2): BatchNorm2d(512, eps=1e-05, momentum=0.1, affine=True, track_running_stats=True)\n",
      "      )\n",
      "    )\n",
      "    (avgpool): AdaptiveAvgPool2d(output_size=(1, 1))\n",
      "    (fc): None\n",
      "    (last_linear): Linear(in_features=512, out_features=1000, bias=True)\n",
      "  )\n",
      "  (conv1): Conv2d(512, 128, kernel_size=(5, 5), stride=(1, 1))\n",
      "  (conv2): Conv2d(128, 32, kernel_size=(5, 5), stride=(1, 1))\n",
      "  (dropout): Dropout(p=0.5, inplace=False)\n",
      "  (conv3): Conv2d(32, 8, kernel_size=(5, 5), stride=(1, 1))\n",
      "  (fc1): Linear(in_features=128, out_features=1, bias=True)\n",
      ")\n"
     ]
    }
   ],
   "source": [
    "print(model_CNN)"
   ]
  },
  {
   "cell_type": "code",
   "execution_count": 1,
   "metadata": {
    "colab": {
     "base_uri": "https://localhost:8080/",
     "height": 240
    },
    "id": "k3by1wxxBd4o",
    "outputId": "0e4459c3-b195-4f25-f5f3-69082ca4ab3f"
   },
   "outputs": [
    {
     "ename": "NameError",
     "evalue": "ignored",
     "output_type": "error",
     "traceback": [
      "\u001b[0;31m---------------------------------------------------------------------------\u001b[0m",
      "\u001b[0;31mNameError\u001b[0m                                 Traceback (most recent call last)",
      "\u001b[0;32m<ipython-input-1-a05cf6ecb4b5>\u001b[0m in \u001b[0;36m<module>\u001b[0;34m()\u001b[0m\n\u001b[1;32m      1\u001b[0m \u001b[0mtrainloss\u001b[0m\u001b[0;34m=\u001b[0m\u001b[0;34m[\u001b[0m\u001b[0;34m]\u001b[0m\u001b[0;34m\u001b[0m\u001b[0;34m\u001b[0m\u001b[0m\n\u001b[1;32m      2\u001b[0m \u001b[0mtestloss\u001b[0m\u001b[0;34m=\u001b[0m\u001b[0;34m[\u001b[0m\u001b[0;34m]\u001b[0m\u001b[0;34m\u001b[0m\u001b[0;34m\u001b[0m\u001b[0m\n\u001b[0;32m----> 3\u001b[0;31m \u001b[0;32mfor\u001b[0m \u001b[0mi\u001b[0m \u001b[0;32min\u001b[0m \u001b[0mmodel_conv\u001b[0m\u001b[0;34m[\u001b[0m\u001b[0;36m1\u001b[0m\u001b[0;34m]\u001b[0m\u001b[0;34m:\u001b[0m\u001b[0;34m\u001b[0m\u001b[0;34m\u001b[0m\u001b[0m\n\u001b[0m\u001b[1;32m      4\u001b[0m   \u001b[0mtrainloss\u001b[0m\u001b[0;34m.\u001b[0m\u001b[0mappend\u001b[0m\u001b[0;34m(\u001b[0m\u001b[0mi\u001b[0m\u001b[0;34m.\u001b[0m\u001b[0mtolist\u001b[0m\u001b[0;34m(\u001b[0m\u001b[0;34m)\u001b[0m\u001b[0;34m)\u001b[0m\u001b[0;34m\u001b[0m\u001b[0;34m\u001b[0m\u001b[0m\n\u001b[1;32m      5\u001b[0m \u001b[0;32mfor\u001b[0m \u001b[0mi\u001b[0m \u001b[0;32min\u001b[0m \u001b[0mmodel_conv\u001b[0m\u001b[0;34m[\u001b[0m\u001b[0;36m2\u001b[0m\u001b[0;34m]\u001b[0m\u001b[0;34m:\u001b[0m\u001b[0;34m\u001b[0m\u001b[0;34m\u001b[0m\u001b[0m\n",
      "\u001b[0;31mNameError\u001b[0m: name 'model_conv' is not defined"
     ]
    }
   ],
   "source": [
    "trainloss=[]\n",
    "testloss=[]\n",
    "for i in model_conv[1]:\n",
    "  trainloss.append(i.tolist())\n",
    "for i in model_conv[2]:\n",
    "  testloss.append(i.tolist())"
   ]
  },
  {
   "cell_type": "code",
   "execution_count": null,
   "metadata": {
    "id": "97y_RGBmBgYV"
   },
   "outputs": [],
   "source": [
    "import matplotlib.pyplot as plt\n",
    "\n",
    "plt.style.use('seaborn')\n",
    "\n",
    "plt.plot(range(1,25), trainloss, label = 'Training error')\n",
    "plt.plot(range(1,25), testloss, label = 'Validation error')\n",
    "plt.ylabel('Loss', fontsize = 14)\n",
    "plt.xlabel('Epochs', fontsize = 14)\n",
    "plt.title('Learning curves', fontsize = 18, y = 1.03)\n",
    "plt.legend()\n",
    "plt.ylim(0,40)"
   ]
  },
  {
   "cell_type": "markdown",
   "metadata": {
    "id": "IJePsT4QUDdh"
   },
   "source": [
    "## Save result on Actual Val Data to csv File"
   ]
  },
  {
   "cell_type": "code",
   "execution_count": null,
   "metadata": {
    "id": "dnNpqbfNjHIp"
   },
   "outputs": [],
   "source": [
    "# load a pretrained model \n",
    "# https://pytorch.org/tutorials/beginner/saving_loading_models.html\n",
    "\n",
    "PATH = 'training_log/' + 'model_resnet34_2022-02-17-2.pt'\n",
    "model = torch.load(PATH)\n",
    "model.eval()"
   ]
  },
  {
   "cell_type": "code",
   "execution_count": null,
   "metadata": {
    "id": "fxAQKYA4UJvj"
   },
   "outputs": [],
   "source": [
    "df = pd.DataFrame(columns=['image_name','output'])\n",
    "for batch_idx, sample_batched in enumerate(test_dataloader):\n",
    "    image= sample_batched['image'].to(device)\n",
    "    img_name= sample_batched['img_name']\n",
    "    output = model_conv(image).type(torch.LongTensor).reshape(-1)\n",
    "    img_name = np.array(img_name).reshape(output.shape[0],1)\n",
    "    o = output.cpu().data.numpy().reshape(output.shape[0],1)\n",
    "    a = np.concatenate((img_name,o),axis=1)\n",
    "    df = df.append(pd.DataFrame(a, columns=df.columns), ignore_index=True)\n",
    "    "
   ]
  },
  {
   "cell_type": "code",
   "execution_count": null,
   "metadata": {
    "id": "hxgoKACBUL_7"
   },
   "outputs": [],
   "source": [
    "#Extracting image name from the image path\n",
    "df['image_name']=df['image_name'].str.split(\"/\").str[-1]"
   ]
  },
  {
   "cell_type": "code",
   "execution_count": null,
   "metadata": {
    "id": "wuzUlqPkpxtD"
   },
   "outputs": [],
   "source": [
    "df.to_csv('drive/MyDrive/Predictions/predictions_' + chosen_name + '_' + str(today) + '.csv', index=False, header=False)"
   ]
  },
  {
   "cell_type": "code",
   "execution_count": null,
   "metadata": {
    "id": "QjB_0dx-DQ0s"
   },
   "outputs": [],
   "source": [
    "df.head()"
   ]
  },
  {
   "cell_type": "markdown",
   "metadata": {
    "id": "iMJCiCG-M1Ut"
   },
   "source": [
    "## Points to note:\n",
    "\n",
    "General Rules: Participants should estimate the percentage of Covid-19 infection from each slice using Machine Learning. **Only ImageNet's pre-trained models and Lung Nodule Segmentation models are allowed**. The use of external data or other pre-trained models is not allowed. The models must be trained using the training data and evaluated using the validation data.\n",
    "\n",
    "##Things you can try:\n",
    "\n",
    "- The dataset is not as big and especially negative covid images are very few.\n",
    "It would be better to use k-fold cross validation rather than conventional splitting.\n",
    "- How would you split image splices from the same patient subject into train & val set?\n",
    "- How would the information on the patient (subject #) help your prediction?\n",
    "- What kind of preprocessing/data augmentation method help your model? What kind of methods would actually make your model perform worse?\n",
    "- What other different CNN architectures could you explore to acheive lower MAE?\n",
    "- Explore different optimizers, loss combinations, etc\n",
    "- Explore different regularization methods\n",
    "\n",
    "This is no way an exhaustive list. You might get a better idea by reading relevant research papers. Good luck!"
   ]
  },
  {
   "cell_type": "code",
   "execution_count": null,
   "metadata": {
    "id": "fVwLtw1piBcj"
   },
   "outputs": [],
   "source": []
  }
 ],
 "metadata": {
  "accelerator": "GPU",
  "colab": {
   "collapsed_sections": [],
   "include_colab_link": true,
   "name": "covid19_code_final.ipynb",
   "provenance": []
  },
  "kernelspec": {
   "display_name": "Python 3",
   "language": "python",
   "name": "python3"
  },
  "language_info": {
   "codemirror_mode": {
    "name": "ipython",
    "version": 3
   },
   "file_extension": ".py",
   "mimetype": "text/x-python",
   "name": "python",
   "nbconvert_exporter": "python",
   "pygments_lexer": "ipython3",
   "version": "3.7.12"
  }
 },
 "nbformat": 4,
 "nbformat_minor": 1
}
